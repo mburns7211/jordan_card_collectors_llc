{
 "cells": [
  {
   "cell_type": "code",
   "execution_count": 1,
   "metadata": {},
   "outputs": [],
   "source": [
    "import requests\n",
    "import urllib.request\n",
    "import time\n",
    "import pandas as pd\n",
    "from bs4 import BeautifulSoup"
   ]
  },
  {
   "cell_type": "code",
   "execution_count": 2,
   "metadata": {},
   "outputs": [],
   "source": [
    "lebron_url = 'https://www.ebay.com/sch/i.html?_from=R40&_nkw=lebron+rookie+card&_sacat=0&rt=nc&LH_Sold=1&LH_Complete=1'\n",
    "charizard_url = 'https://www.ebay.com/sch/i.html?_nkw=1st+edition+charizard&_sop=12&LH_All=1&rt=nc&LH_Sold=1&LH_Complete=1'\n",
    "zion_url = 'https://www.ebay.com/sch/i.html?_from=R40&_nkw=zion+rookie+card&_sacat=0&LH_TitleDesc=0&LH_Sold=1&LH_All=1&rt=nc&LH_Complete=1'"
   ]
  },
  {
   "cell_type": "code",
   "execution_count": 3,
   "metadata": {},
   "outputs": [],
   "source": [
    "lebron_response = requests.get(lebron_url)\n",
    "charizard_response = requests.get(charizard_url)\n",
    "zion_url = requests.get(zion_url)"
   ]
  },
  {
   "cell_type": "code",
   "execution_count": 4,
   "metadata": {},
   "outputs": [],
   "source": [
    "lebron_soup = BeautifulSoup(lebron_response.text, \"html.parser\")\n",
    "charizard_soup = BeautifulSoup(charizard_response.text, \"html.parser\")\n",
    "zion_soup = BeautifulSoup(zion_url.text, \"html.parser\")"
   ]
  },
  {
   "cell_type": "code",
   "execution_count": 5,
   "metadata": {},
   "outputs": [],
   "source": [
    "lebron_listings = lebron_soup.find_all('li', attrs={'class': 's-item'})\n",
    "charizard_listings = charizard_soup.find_all('li', attrs={'class': 's-item'})\n",
    "zion_listings = zion_soup.find_all('li', attrs={'class': 's-item'})"
   ]
  },
  {
   "cell_type": "code",
   "execution_count": 6,
   "metadata": {},
   "outputs": [],
   "source": [
    "lebron_price_lst = []\n",
    "lebron_name_lst = []\n",
    "\n",
    "charizard_price_lst = []\n",
    "charizard_name_lst = []\n",
    "\n",
    "zion_price_lst = []\n",
    "zion_name_lst = []\n",
    "\n",
    "for item in lebron_listings:\n",
    "    l_name = item.find_all('h3', attrs={'class':\"s-item__title\"});\n",
    "    lebron_name_lst.append(l_name)\n",
    "    \n",
    "    l_price = item.find_all('span', attrs={'class':\"s-item__price\"})\n",
    "    lebron_price_lst.append(l_price)\n",
    "    \n",
    "for item in charizard_listings:\n",
    "    c_name = item.find_all('h3', attrs={'class':\"s-item__title\"});\n",
    "    charizard_name_lst.append(c_name)\n",
    "    \n",
    "    c_price = item.find_all('span', attrs={'class':\"s-item__price\"})\n",
    "    charizard_price_lst.append(c_price)\n",
    "    \n",
    "for item in lebron_listings:\n",
    "    z_name = item.find_all('h3', attrs={'class':\"s-item__title\"});\n",
    "    zion_name_lst.append(z_name)\n",
    "    \n",
    "    z_price = item.find_all('span', attrs={'class':\"s-item__price\"})\n",
    "    zion_price_lst.append(z_price)\n"
   ]
  },
  {
   "cell_type": "code",
   "execution_count": 7,
   "metadata": {},
   "outputs": [],
   "source": [
    "lebron_df = pd.DataFrame({\"Name\": lebron_name_lst, \"Prices\": lebron_price_lst})\n",
    "charizard_df = pd.DataFrame({\"Name\": charizard_name_lst, \"Prices\": charizard_price_lst})\n",
    "zion_df = pd.DataFrame({\"Name\": zion_name_lst, \"Prices\": zion_price_lst})"
   ]
  },
  {
   "cell_type": "code",
   "execution_count": 8,
   "metadata": {},
   "outputs": [],
   "source": [
    "lebron_df = lebron_df.drop([0])\n",
    "charizard_df = charizard_df.drop([0])\n",
    "zion_df = zion_df.drop([0])"
   ]
  },
  {
   "cell_type": "code",
   "execution_count": 9,
   "metadata": {},
   "outputs": [
    {
     "data": {
      "text/html": [
       "<div>\n",
       "<style scoped>\n",
       "    .dataframe tbody tr th:only-of-type {\n",
       "        vertical-align: middle;\n",
       "    }\n",
       "\n",
       "    .dataframe tbody tr th {\n",
       "        vertical-align: top;\n",
       "    }\n",
       "\n",
       "    .dataframe thead th {\n",
       "        text-align: right;\n",
       "    }\n",
       "</style>\n",
       "<table border=\"1\" class=\"dataframe\">\n",
       "  <thead>\n",
       "    <tr style=\"text-align: right;\">\n",
       "      <th></th>\n",
       "      <th>Name</th>\n",
       "      <th>Prices</th>\n",
       "    </tr>\n",
       "  </thead>\n",
       "  <tbody>\n",
       "    <tr>\n",
       "      <th>1</th>\n",
       "      <td>[[2002 ROOKIE PHENOMS - LEBRON JAMES - HIGH SC...</td>\n",
       "      <td>[[[$1.25]]]</td>\n",
       "    </tr>\n",
       "    <tr>\n",
       "      <th>2</th>\n",
       "      <td>[[2003-04 Fleer Ultra Basketball Sealed Unopen...</td>\n",
       "      <td>[[[$399.99]]]</td>\n",
       "    </tr>\n",
       "    <tr>\n",
       "      <th>3</th>\n",
       "      <td>[[2003 Lebron James card (piece of floor at St...</td>\n",
       "      <td>[[[$25.00]]]</td>\n",
       "    </tr>\n",
       "    <tr>\n",
       "      <th>4</th>\n",
       "      <td>[[LeBron James 2003-04 Upper Deck Rookie Exclu...</td>\n",
       "      <td>[[[$57.00]]]</td>\n",
       "    </tr>\n",
       "    <tr>\n",
       "      <th>5</th>\n",
       "      <td>[[2003 LEBRON JAMES ALL-SPORTS MAGAZINE ROOKIE...</td>\n",
       "      <td>[[[$35.00]]]</td>\n",
       "    </tr>\n",
       "  </tbody>\n",
       "</table>\n",
       "</div>"
      ],
      "text/plain": [
       "                                                Name         Prices\n",
       "1  [[2002 ROOKIE PHENOMS - LEBRON JAMES - HIGH SC...    [[[$1.25]]]\n",
       "2  [[2003-04 Fleer Ultra Basketball Sealed Unopen...  [[[$399.99]]]\n",
       "3  [[2003 Lebron James card (piece of floor at St...   [[[$25.00]]]\n",
       "4  [[LeBron James 2003-04 Upper Deck Rookie Exclu...   [[[$57.00]]]\n",
       "5  [[2003 LEBRON JAMES ALL-SPORTS MAGAZINE ROOKIE...   [[[$35.00]]]"
      ]
     },
     "execution_count": 9,
     "metadata": {},
     "output_type": "execute_result"
    }
   ],
   "source": [
    "lebron_df.head()"
   ]
  },
  {
   "cell_type": "code",
   "execution_count": 10,
   "metadata": {},
   "outputs": [
    {
     "data": {
      "text/html": [
       "<div>\n",
       "<style scoped>\n",
       "    .dataframe tbody tr th:only-of-type {\n",
       "        vertical-align: middle;\n",
       "    }\n",
       "\n",
       "    .dataframe tbody tr th {\n",
       "        vertical-align: top;\n",
       "    }\n",
       "\n",
       "    .dataframe thead th {\n",
       "        text-align: right;\n",
       "    }\n",
       "</style>\n",
       "<table border=\"1\" class=\"dataframe\">\n",
       "  <thead>\n",
       "    <tr style=\"text-align: right;\">\n",
       "      <th></th>\n",
       "      <th>Name</th>\n",
       "      <th>Prices</th>\n",
       "    </tr>\n",
       "  </thead>\n",
       "  <tbody>\n",
       "    <tr>\n",
       "      <th>1</th>\n",
       "      <td>[[Pokemon 2017 Burning Shadows #20 Charizard G...</td>\n",
       "      <td>[[[$51.00]]]</td>\n",
       "    </tr>\n",
       "    <tr>\n",
       "      <th>2</th>\n",
       "      <td>[[Charizard, Base Set, 1st Edition, Shadowless...</td>\n",
       "      <td>[[[$86.35]]]</td>\n",
       "    </tr>\n",
       "    <tr>\n",
       "      <th>3</th>\n",
       "      <td>[[126 ALL 1st edition pokemon cards mint holo ...</td>\n",
       "      <td>[[[$385.00]]]</td>\n",
       "    </tr>\n",
       "    <tr>\n",
       "      <th>4</th>\n",
       "      <td>[[rare pokemon cards charizard 1st edition]]</td>\n",
       "      <td>[[[$100.00]]]</td>\n",
       "    </tr>\n",
       "    <tr>\n",
       "      <th>5</th>\n",
       "      <td>[[Shiny Charizard Pokemon 30 card Fat Pack wit...</td>\n",
       "      <td>[[[$9.00]]]</td>\n",
       "    </tr>\n",
       "  </tbody>\n",
       "</table>\n",
       "</div>"
      ],
      "text/plain": [
       "                                                Name         Prices\n",
       "1  [[Pokemon 2017 Burning Shadows #20 Charizard G...   [[[$51.00]]]\n",
       "2  [[Charizard, Base Set, 1st Edition, Shadowless...   [[[$86.35]]]\n",
       "3  [[126 ALL 1st edition pokemon cards mint holo ...  [[[$385.00]]]\n",
       "4       [[rare pokemon cards charizard 1st edition]]  [[[$100.00]]]\n",
       "5  [[Shiny Charizard Pokemon 30 card Fat Pack wit...    [[[$9.00]]]"
      ]
     },
     "execution_count": 10,
     "metadata": {},
     "output_type": "execute_result"
    }
   ],
   "source": [
    "charizard_df.head()"
   ]
  },
  {
   "cell_type": "code",
   "execution_count": 11,
   "metadata": {},
   "outputs": [
    {
     "data": {
      "text/html": [
       "<div>\n",
       "<style scoped>\n",
       "    .dataframe tbody tr th:only-of-type {\n",
       "        vertical-align: middle;\n",
       "    }\n",
       "\n",
       "    .dataframe tbody tr th {\n",
       "        vertical-align: top;\n",
       "    }\n",
       "\n",
       "    .dataframe thead th {\n",
       "        text-align: right;\n",
       "    }\n",
       "</style>\n",
       "<table border=\"1\" class=\"dataframe\">\n",
       "  <thead>\n",
       "    <tr style=\"text-align: right;\">\n",
       "      <th></th>\n",
       "      <th>Name</th>\n",
       "      <th>Prices</th>\n",
       "    </tr>\n",
       "  </thead>\n",
       "  <tbody>\n",
       "    <tr>\n",
       "      <th>1</th>\n",
       "      <td>[[2002 ROOKIE PHENOMS - LEBRON JAMES - HIGH SC...</td>\n",
       "      <td>[[[$1.25]]]</td>\n",
       "    </tr>\n",
       "    <tr>\n",
       "      <th>2</th>\n",
       "      <td>[[2003-04 Fleer Ultra Basketball Sealed Unopen...</td>\n",
       "      <td>[[[$399.99]]]</td>\n",
       "    </tr>\n",
       "    <tr>\n",
       "      <th>3</th>\n",
       "      <td>[[2003 Lebron James card (piece of floor at St...</td>\n",
       "      <td>[[[$25.00]]]</td>\n",
       "    </tr>\n",
       "    <tr>\n",
       "      <th>4</th>\n",
       "      <td>[[LeBron James 2003-04 Upper Deck Rookie Exclu...</td>\n",
       "      <td>[[[$57.00]]]</td>\n",
       "    </tr>\n",
       "    <tr>\n",
       "      <th>5</th>\n",
       "      <td>[[2003 LEBRON JAMES ALL-SPORTS MAGAZINE ROOKIE...</td>\n",
       "      <td>[[[$35.00]]]</td>\n",
       "    </tr>\n",
       "  </tbody>\n",
       "</table>\n",
       "</div>"
      ],
      "text/plain": [
       "                                                Name         Prices\n",
       "1  [[2002 ROOKIE PHENOMS - LEBRON JAMES - HIGH SC...    [[[$1.25]]]\n",
       "2  [[2003-04 Fleer Ultra Basketball Sealed Unopen...  [[[$399.99]]]\n",
       "3  [[2003 Lebron James card (piece of floor at St...   [[[$25.00]]]\n",
       "4  [[LeBron James 2003-04 Upper Deck Rookie Exclu...   [[[$57.00]]]\n",
       "5  [[2003 LEBRON JAMES ALL-SPORTS MAGAZINE ROOKIE...   [[[$35.00]]]"
      ]
     },
     "execution_count": 11,
     "metadata": {},
     "output_type": "execute_result"
    }
   ],
   "source": [
    "zion_df.head()"
   ]
  },
  {
   "cell_type": "code",
   "execution_count": null,
   "metadata": {},
   "outputs": [],
   "source": []
  }
 ],
 "metadata": {
  "kernelspec": {
   "display_name": "Python 3",
   "language": "python",
   "name": "python3"
  },
  "language_info": {
   "codemirror_mode": {
    "name": "ipython",
    "version": 3
   },
   "file_extension": ".py",
   "mimetype": "text/x-python",
   "name": "python",
   "nbconvert_exporter": "python",
   "pygments_lexer": "ipython3",
   "version": "3.8.1"
  }
 },
 "nbformat": 4,
 "nbformat_minor": 4
}
